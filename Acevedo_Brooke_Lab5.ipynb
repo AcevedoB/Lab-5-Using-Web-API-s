{
 "cells": [
  {
   "cell_type": "code",
   "execution_count": 73,
   "metadata": {},
   "outputs": [
    {
     "name": "stdout",
     "output_type": "stream",
     "text": [
      "\n",
      "\u001b[31mThis artist does not exist.\n",
      "\n",
      "\u001b[33m2nd Hand \u001b[37m| \u001b[36msuicide boys\n",
      "\u001b[33mClouds as Witnesses \u001b[37m| \u001b[36msuicide boys\n"
     ]
    }
   ],
   "source": [
    "# This program will take 5 of your favorite artists and create a playlist of songs by them.\n",
    "\n",
    "import random\n",
    "import requests\n",
    "from colorama import Fore, Style\n",
    "\n",
    "# Function that allows you to find the songs for a specific artist you input\n",
    "def songs_for_song_artist (input):\n",
    "\t# Gets access to the api, specifically utilizing the search endpoint\n",
    "\turl = \"https://deezerdevs-deezer.p.rapidapi.com/search\"\n",
    "\tquerystring = {\"q\":f\"{input}\"}\n",
    "\n",
    "\t# Keys needed to get access to the API\n",
    "\theaders = {\n",
    "\t\t\"X-RapidAPI-Key\": \"8acd9e6352msh85cc09f2fbe0ec1p14715ejsn0b8bee01e34b\",\n",
    "\t\t\"X-RapidAPI-Host\": \"deezerdevs-deezer.p.rapidapi.com\"\n",
    "\t}\n",
    "\n",
    "\t# Gets the json\n",
    "\tresponse = requests.get(url, headers=headers, params=querystring)\n",
    "\n",
    "\t# Takes the json and locates the specific information we want from it before putting it all in a list to display\n",
    "\tdata = response.json()\n",
    "\tdata_list = data.get('data')\n",
    "\ttitles = set(item['title'] for item in data_list)\n",
    "\tclean_titles = list(titles)\n",
    "\n",
    "\t# Determines if the artist inputted exists\n",
    "\tif not clean_titles:\n",
    "\t\tprint('')\n",
    "\t\tprint(f\"{Fore.RED}This artist does not exist.\")\n",
    "\t\tprint('')\n",
    "\t\n",
    "\telse:\n",
    "\t\t# Snatches two random songs from the artists chosen\n",
    "\t\trandom_song_1 = random.choice(clean_titles) \n",
    "\t\trandom_song_2 = random.choice(clean_titles)\n",
    "\n",
    "\t\t# Picks a song at random \n",
    "\t\twhile random_song_2 == random_song_1:\n",
    "\t\t\trandom_song_2 = random.choice(clean_titles)\n",
    "\t\t\n",
    "\t\t# Prints the songs to the console \n",
    "\t\tprint(f\"{Fore.YELLOW}{random_song_1} {Fore.WHITE}| {Fore.CYAN}{input}\")\t\n",
    "\t\tprint(f\"{Fore.YELLOW}{random_song_2} {Fore.WHITE}| {Fore.CYAN}{input}\")\n",
    "\t\n",
    "# Prints the songs (This is a test, the below one is the program)\n",
    "songs_for_song_artist ('wejfhwjehfwje')\n",
    "songs_for_song_artist ('suicide boys')"
   ]
  },
  {
   "cell_type": "code",
   "execution_count": 74,
   "metadata": {},
   "outputs": [
    {
     "name": "stdout",
     "output_type": "stream",
     "text": [
      "\u001b[37m\u001b[1m-- PLAYLIST --\n",
      "\u001b[33mLose Yourself (From \"8 Mile\" Soundtrack) \u001b[37m| \u001b[36meminem\n",
      "\u001b[33mFEMINEM \u001b[37m| \u001b[36meminem\n",
      "\u001b[33mLove The Way You Lie \u001b[37m| \u001b[36meminem\n",
      "\u001b[33mLucky You \u001b[37m| \u001b[36meminem\n",
      "\u001b[33mBeautiful \u001b[37m| \u001b[36meminem\n",
      "\u001b[33mEminem (Speed up) \u001b[37m| \u001b[36meminem\n",
      "\u001b[33mCleanin' Out My Closet \u001b[37m| \u001b[36meminem\n",
      "\u001b[33mSuperman \u001b[37m| \u001b[36meminem\n",
      "\u001b[33mLucky You \u001b[37m| \u001b[36meminem\n",
      "\u001b[33mLose Yourself (From \"8 Mile\" Soundtrack) \u001b[37m| \u001b[36meminem\n"
     ]
    }
   ],
   "source": [
    "\n",
    "# The list that'll contain all the inputs\n",
    "all_inputs = []\n",
    "\n",
    "# Allows the user to input artists and puts it into a list\n",
    "for i in range (5):\n",
    "\n",
    "    # While loop ensures it is not a null value\n",
    "    while True: \n",
    "        user_input = input(f\"Enter 5 of your favorite song artists! You have entered {i}.\")\n",
    "\n",
    "        # Referenced from chatGPT\n",
    "        if user_input.strip():  # Check if the input is not an empty string\n",
    "            all_inputs.append(user_input)\n",
    "            break  # Exit the loop if valid input is provided\n",
    "\n",
    "        else:\n",
    "            print(f\"{Fore.RED}Please enter an artist.\")\n",
    "            print('')\n",
    "\n",
    "print(f\"{Fore.WHITE}{Style.BRIGHT}-- PLAYLIST --\")\n",
    "\n",
    "# Prints out songs for each of the artists\n",
    "for everything in all_inputs:\n",
    "    songs_for_song_artist(everything)\n",
    "    "
   ]
  }
 ],
 "metadata": {
  "kernelspec": {
   "display_name": "Python 3",
   "language": "python",
   "name": "python3"
  },
  "language_info": {
   "codemirror_mode": {
    "name": "ipython",
    "version": 3
   },
   "file_extension": ".py",
   "mimetype": "text/x-python",
   "name": "python",
   "nbconvert_exporter": "python",
   "pygments_lexer": "ipython3",
   "version": "3.11.6"
  }
 },
 "nbformat": 4,
 "nbformat_minor": 2
}
